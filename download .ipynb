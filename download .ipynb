{
 "cells": [
  {
   "cell_type": "code",
   "execution_count": 4,
   "metadata": {},
   "outputs": [
    {
     "name": "stdout",
     "output_type": "stream",
     "text": [
      "Full Formula (La1 Ag1 O2)\n",
      "Reduced Formula: LaAgO2\n",
      "abc   :   3.836644   6.612957   3.836643\n",
      "angles: 106.863061  60.000003 106.863063\n",
      "Sites (4)\n",
      "  #  SP           a         b         c    magmom\n",
      "---  ----  --------  --------  --------  --------\n",
      "  0  La    0.5       0.5       0.5              0\n",
      "  1  Ag    0         0         0                0\n",
      "  2  O     0.110862  0.332587  0.110862         0\n",
      "  3  O     0.889138  0.667413  0.889138         0\n"
     ]
    }
   ],
   "source": [
    "\n",
    "from pymatgen.ext.matproj import MPRester\n",
    "\n",
    "with MPRester(\"v5zOFTlhqtoyEiw1\") as m:\n",
    "    material_id = \"mp-753260\"\n",
    "    # Structure for material id\n",
    "    structure = m.get_structure_by_material_id(material_id)\n",
    "    structure.to(filename="LaAgO2_computed.cif")#computes
    "print(structure)\n",
    "   "
   ]
  },
  {
   "cell_type": "code",
   "execution_count": null,
   "metadata": {},
   "outputs": [],
   "source": []
  }
 ],
 "metadata": {
  "kernelspec": {
   "display_name": "Python 3",
   "language": "python",
   "name": "python3"
  },
  "language_info": {
   "codemirror_mode": {
    "name": "ipython",
    "version": 3
   },
   "file_extension": ".py",
   "mimetype": "text/x-python",
   "name": "python",
   "nbconvert_exporter": "python",
   "pygments_lexer": "ipython3",
   "version": "3.6.8"
  }
 },
 "nbformat": 4,
 "nbformat_minor": 2
}
