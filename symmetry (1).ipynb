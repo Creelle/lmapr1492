{
 "cells": [
  {
   "cell_type": "code",
   "execution_count": 47,
   "metadata": {},
   "outputs": [],
   "source": [
    "import numpy as np\n",
    "import pymatgen.symmetry.analyzer as analyzer\n",
    "from pymatgen.ext.matproj import MPRester\n",
    "import pymatgen.core.lattice \n",
    "import pymatgen.core.operations\n",
    "\n",
    "with MPRester(\"v5zOFTlhqtoyEiw1\") as m:\n",
    "    material_id = \"mp-753260\"\n",
    "    # Structure for material id\n",
    "    structure = m.get_structure_by_material_id(material_id)\n",
    "    structure.to(filename=\"LaAgO2_computed.cif\")#computes the computed version\n",
    "    \n",
    "    #0 define new structure to obtain a=b=c and alpha=beta=gamma ainsi que le symmetrized et le conventional car je ne sais pas \n",
    "    #lequel je vais utiliser\n",
    "    new_structure =  analyzer.SpacegroupAnalyzer(structure).get_primitive_standard_structure()\n",
    "    new_structure2 = analyzer.SpacegroupAnalyzer(structure).get_symmetrized_structure()\n",
    "    new_structure3 = analyzer.SpacegroupAnalyzer(structure).get_conventional_standard_structure()\n",
    "    \n",
    "    #a partir d 'ici je choisi de travailler sur la partie conventional_standard_structure \n",
    "    #car c'est la seule qui marche sur Jmol Cristal Symmetry Explorer\n",
    "    \n",
    "    #1 symmetry operations of the point group and space group\n",
    "    \n",
    "    SGclass3 = analyzer.SpacegroupAnalyzer(new_structure3) #symmetrized\n",
    "        \n",
    "    #print(\"point group operations  : \",SGclass2.get_point_group_operations(cartesian=False))\n",
    "    PGO = SGclass3.get_point_group_operations(cartesian=False)\n",
    "    \n",
    "    "
   ]
  },
  {
   "cell_type": "code",
   "execution_count": 48,
   "metadata": {},
   "outputs": [
    {
     "name": "stdout",
     "output_type": "stream",
     "text": [
      "[PeriodicSite: La (9.2022, -0.0000, 1.6357) [0.5000, 0.5000, 0.5000], PeriodicSite: Ag (0.0000, 0.0000, 0.0000) [0.0000, 0.0000, 0.0000], PeriodicSite: O (2.0404, 0.0000, 0.3627) [0.1109, 0.1109, 0.1109]]\n"
     ]
    }
   ],
   "source": [
    "#2 get the 3 first atoms from the symmetrized structure\n",
    "atomes = new_structure.sites[0:3] \n",
    "position = np.array([atomes[0].coords,atomes[1].coords,atomes[2].coords])\n",
    "print(atomes)\n",
    "#print('the position of the atoms:\\n',position)\n"
   ]
  },
  {
   "cell_type": "code",
   "execution_count": 49,
   "metadata": {},
   "outputs": [],
   "source": [
    "#3 get the rotation matrix for different symmetry operations 3==>1, 8==>2, 11==>3\n",
    "rot_m = np.array([PGO[2].rotation_matrix,PGO[7].rotation_matrix,PGO[10].rotation_matrix])\n",
    "#print(rot_m)"
   ]
  },
  {
   "cell_type": "code",
   "execution_count": 50,
   "metadata": {},
   "outputs": [],
   "source": [
    "#4 calculate the new positions of the atoms with the rotation matrix of each symmetry\n",
    "new_positions = rot_m @ position.T\n",
    "\n",
    "#each vector contains 3 matrixes / each matrix contains the new postion of the atom ( a colmun per atom)\n",
    "#no need to take into account translator vector as it is null\n",
    "#print(new_positions)\n"
   ]
  },
  {
   "cell_type": "code",
   "execution_count": 51,
   "metadata": {},
   "outputs": [
    {
     "name": "stdout",
     "output_type": "stream",
     "text": [
      "space group symbol \n",
      " :  R-3m (166) spacegroup\n",
      "\n",
      "\n",
      "base vectors (conventional ) : \n",
      "length of the base vectors of the direct lattice (a,b,c): \n",
      " (3.8366436724669115, 3.8366436724669115, 18.692813040000054)\n",
      "angles (alpha,beta,gamma) of the base vectors of the direct lattice: \n",
      " (90.0, 90.0, 119.99999999999999)\n",
      "\n",
      "\n",
      "initial position of  the atoms :\n",
      "La\n",
      " initial position:  [ 9.20216690e+00 -5.55111512e-16  1.63567698e+00]\n",
      "Ag\n",
      " initial position:  [0. 0. 0.]\n",
      "O\n",
      " initial position:  [2.04035003 0.         0.3626704 ]\n",
      "\n",
      "\n",
      "#######################################################################################\n",
      "Symmetry operation  1\n",
      "rotation matrix : \n",
      "\n",
      "[[ 0. -1.  0.]\n",
      " [ 1. -1.  0.]\n",
      " [ 0.  0.  1.]]\n",
      "\n",
      "\n",
      "new position La : \n",
      "[5.55111512e-16 9.20216690e+00 1.63567698e+00]\n",
      "new position Ag : \n",
      "[0. 0. 0.]\n",
      "new position O : \n",
      "[0.         2.04035003 0.3626704 ]\n",
      "\n",
      "\n",
      "#######################################################################################\n",
      "Symmetry operation  2\n",
      "rotation matrix : \n",
      "\n",
      "[[ 0. -1.  0.]\n",
      " [-1.  0.  0.]\n",
      " [ 0.  0.  1.]]\n",
      "\n",
      "\n",
      "new position La : \n",
      "[ 5.55111512e-16 -9.20216690e+00  1.63567698e+00]\n",
      "new position Ag : \n",
      "[0. 0. 0.]\n",
      "new position O : \n",
      "[ 0.         -2.04035003  0.3626704 ]\n",
      "\n",
      "\n",
      "#######################################################################################\n",
      "Symmetry operation  3\n",
      "rotation matrix : \n",
      "\n",
      "[[-1.  0.  0.]\n",
      " [-1.  1.  0.]\n",
      " [ 0.  0. -1.]]\n",
      "\n",
      "\n",
      "new position La : \n",
      "[-9.2021669  -9.2021669  -1.63567698]\n",
      "new position Ag : \n",
      "[0. 0. 0.]\n",
      "new position O : \n",
      "[-2.04035003 -2.04035003 -0.3626704 ]\n",
      "\n",
      "\n",
      "#######################################################################################\n"
     ]
    }
   ],
   "source": [
    "#5 make a nice print to summarize everything\n",
    "print(\"space group symbol \\n : \",SGclass3.get_space_group_operations())\n",
    "print('\\n')\n",
    "print(\"base vectors (conventional ) : \")\n",
    "print(\"length of the base vectors of the direct lattice (a,b,c): \\n\",new_structure3.lattice.abc)\n",
    "print(\"angles (alpha,beta,gamma) of the base vectors of the direct lattice: \\n\",new_structure3.lattice.angles)\n",
    "print('\\n')\n",
    "print(\"initial position of  the atoms :\")\n",
    "\n",
    "for i in range(len(position)) :\n",
    "    print(atomes[i].specie)\n",
    "    print( \" initial position: \" ,position[i])\n",
    "print('\\n')\n",
    "print('#######################################################################################')\n",
    "for j in range(len(rot_m)):\n",
    "    print(\"Symmetry operation \",j+1)\n",
    "    print(\"rotation matrix : \\n\")\n",
    "    print(rot_m[j])\n",
    "    print('\\n')\n",
    "    for k in range(len(position)):\n",
    "        print(\"new position \" + str(atomes[k].specie)+\" : \")\n",
    "        print(new_positions[j][:,k])\n",
    "    print('\\n')\n",
    "    print('#######################################################################################')\n"
   ]
  },
  {
   "cell_type": "code",
   "execution_count": null,
   "metadata": {
    "scrolled": true
   },
   "outputs": [],
   "source": [
    " "
   ]
  },
  {
   "cell_type": "code",
   "execution_count": null,
   "metadata": {},
   "outputs": [],
   "source": []
  }
 ],
 "metadata": {
  "kernelspec": {
   "display_name": "Python 3",
   "language": "python",
   "name": "python3"
  },
  "language_info": {
   "codemirror_mode": {
    "name": "ipython",
    "version": 3
   },
   "file_extension": ".py",
   "mimetype": "text/x-python",
   "name": "python",
   "nbconvert_exporter": "python",
   "pygments_lexer": "ipython3",
   "version": "3.6.8"
  }
 },
 "nbformat": 4,
 "nbformat_minor": 2
}
