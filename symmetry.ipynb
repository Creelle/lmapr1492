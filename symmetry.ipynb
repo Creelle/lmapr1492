{
 "cells": [
  {
   "cell_type": "code",
   "execution_count": 82,
   "metadata": {},
   "outputs": [],
   "source": [
    "import numpy as np\n",
    "import pymatgen.symmetry.analyzer as analyzer\n",
    "from pymatgen.ext.matproj import MPRester\n",
    "import pymatgen.core.lattice \n",
    "\n",
    "with MPRester(\"v5zOFTlhqtoyEiw1\") as m:\n",
    "    material_id = \"mp-753260\"\n",
    "    # Structure for material id\n",
    "    structure = m.get_structure_by_material_id(material_id)\n",
    "    structure.to(filename=\"LaAgO2_computed.cif\")#computes the computed version\n",
    "    \n",
    "    #0 define new structure to obtain a=b=c and alpha=beta=gamma ainsi que le symmetrized et le conventional car je ne sais pas \n",
    "    #lequel je vais utiliser\n",
    "    new_structure =  analyzer.SpacegroupAnalyzer(structure).get_primitive_standard_structure()\n",
    "    new_structure2 = analyzer.SpacegroupAnalyzer(structure).get_symmetrized_structure()\n",
    "    new_structure3 = analyzer.SpacegroupAnalyzer(structure).get_conventional_standard_structure()\n",
    "    \n",
    "    #a partir d 'ici je choisi de travailler sur la partie symmetrized car c'est la seule qui marche sur Jmol Cristal Symmetry Explorer\n",
    "    \n",
    "    #1 symmetry operations of the point group and space group\n",
    "    \n",
    "    SGclass2 = analyzer.SpacegroupAnalyzer(new_structure2) #symmetrized\n",
    "        \n",
    "    #print(\"point group operations  : \",SGclass2.get_point_group_operations(cartesian=False))\n",
    "    PGO = SGclass2.get_point_group_operations(cartesian=False)\n",
    "    \n",
    "    "
   ]
  },
  {
   "cell_type": "code",
   "execution_count": 83,
   "metadata": {},
   "outputs": [],
   "source": [
    "#2 get the 3 first atoms from the symmetrized structure\n",
    "atomes = new_structure2.sites[0:3] \n",
    "position = np.array([atomes[0].coords,atomes[1].coords,atomes[2].coords])\n",
    "#print(atomes)\n",
    "#print('the position of the atoms:\\n',position)\n"
   ]
  },
  {
   "cell_type": "code",
   "execution_count": 84,
   "metadata": {},
   "outputs": [],
   "source": [
    "#3 get the rotation matrix for different symmetry operations 2, 7, 10\n",
    "rot_m = np.array([PGO[2].rotation_matrix,PGO[7].rotation_matrix,PGO[10].rotation_matrix])\n",
    "#print(rot_m)"
   ]
  },
  {
   "cell_type": "code",
   "execution_count": 85,
   "metadata": {},
   "outputs": [],
   "source": [
    "#4 calculate the new positions of the atoms with the rotation matrix of each symmetry\n",
    "new_positions = rot_m @ position.T\n",
    "\n",
    "#each vector contains 3 matrixes / each matrix contains the new postion of the atom ( a colmun per atom)\n",
    "#no need to take into account translator vector as it is null\n",
    "#print(new_positions)\n"
   ]
  },
  {
   "cell_type": "code",
   "execution_count": 86,
   "metadata": {},
   "outputs": [
    {
     "name": "stdout",
     "output_type": "stream",
     "text": [
      "space group symbol \n",
      " :  R-3m (166) spacegroup\n",
      "\n",
      "\n",
      "base vectors : \n",
      "length of the base vectors of the direct lattice (a,b,c): \n",
      " (3.83664401, 6.612956506414123, 3.836643334933823)\n",
      "angles (alpha,beta,gamma) of the base vectors of the direct lattice: \n",
      " (106.86306102209353, 60.0000028878164, 106.86306313021774)\n",
      "\n",
      "\n",
      "initial position of  the atoms :\n",
      "La\n",
      " initial position:  [ 1.91832201 -1.10754373  3.11546884]\n",
      "Ag\n",
      " initial position:  [0. 0. 0.]\n",
      "O\n",
      " initial position:  [-1.82553395e-06  1.00775652e-06  2.07233155e+00]\n",
      "\n",
      "\n",
      "#######################################################################################\n",
      "Symmetry operation  1\n",
      "rotation matrix : \n",
      "\n",
      "[[ 0.  0.  1.]\n",
      " [ 0.  1.  0.]\n",
      " [-1.  1. -1.]]\n",
      "\n",
      "\n",
      "new position La : \n",
      "[ 3.11546884 -1.10754373 -6.14133458]\n",
      "new position Ag : \n",
      "[0. 0. 0.]\n",
      "new position O : \n",
      "[ 2.07233155e+00  1.00775652e-06 -2.07232872e+00]\n",
      "\n",
      "\n",
      "#######################################################################################\n",
      "Symmetry operation  2\n",
      "rotation matrix : \n",
      "\n",
      "[[0. 0. 1.]\n",
      " [0. 1. 0.]\n",
      " [1. 0. 0.]]\n",
      "\n",
      "\n",
      "new position La : \n",
      "[ 3.11546884 -1.10754373  1.91832201]\n",
      "new position Ag : \n",
      "[0. 0. 0.]\n",
      "new position O : \n",
      "[ 2.07233155e+00  1.00775652e-06 -1.82553395e-06]\n",
      "\n",
      "\n",
      "#######################################################################################\n",
      "Symmetry operation  3\n",
      "rotation matrix : \n",
      "\n",
      "[[-1.  0.  0.]\n",
      " [ 0. -1.  0.]\n",
      " [ 1. -1.  1.]]\n",
      "\n",
      "\n",
      "new position La : \n",
      "[-1.91832201  1.10754373  6.14133458]\n",
      "new position Ag : \n",
      "[0. 0. 0.]\n",
      "new position O : \n",
      "[ 1.82553395e-06 -1.00775652e-06  2.07232872e+00]\n",
      "\n",
      "\n",
      "#######################################################################################\n"
     ]
    }
   ],
   "source": [
    "#5 make a nice print to summarize everything\n",
    "print(\"space group symbol \\n : \",SGclass2.get_space_group_operations())\n",
    "print('\\n')\n",
    "print(\"base vectors : \")\n",
    "print(\"length of the base vectors of the direct lattice (a,b,c): \\n\",new_structure2.lattice.abc)\n",
    "print(\"angles (alpha,beta,gamma) of the base vectors of the direct lattice: \\n\",new_structure2.lattice.angles)\n",
    "print('\\n')\n",
    "print(\"initial position of  the atoms :\")\n",
    "\n",
    "for i in range(len(position)) :\n",
    "    print(atomes[i].specie)\n",
    "    print( \" initial position: \" ,position[i])\n",
    "print('\\n')\n",
    "print('#######################################################################################')\n",
    "for j in range(len(rot_m)):\n",
    "    print(\"Symmetry operation \",j+1)\n",
    "    print(\"rotation matrix : \\n\")\n",
    "    print(rot_m[j])\n",
    "    print('\\n')\n",
    "    for k in range(len(position)):\n",
    "        print(\"new position \" + str(atomes[k].specie)+\" : \")\n",
    "        print(new_positions[j][:,k])\n",
    "    print('\\n')\n",
    "    print('#######################################################################################')\n"
   ]
  },
  {
   "cell_type": "code",
   "execution_count": null,
   "metadata": {
    "scrolled": true
   },
   "outputs": [],
   "source": []
  },
  {
   "cell_type": "code",
   "execution_count": null,
   "metadata": {},
   "outputs": [],
   "source": []
  }
 ],
 "metadata": {
  "kernelspec": {
   "display_name": "Python 3",
   "language": "python",
   "name": "python3"
  },
  "language_info": {
   "codemirror_mode": {
    "name": "ipython",
    "version": 3
   },
   "file_extension": ".py",
   "mimetype": "text/x-python",
   "name": "python",
   "nbconvert_exporter": "python",
   "pygments_lexer": "ipython3",
   "version": "3.6.8"
  }
 },
 "nbformat": 4,
 "nbformat_minor": 2
}
